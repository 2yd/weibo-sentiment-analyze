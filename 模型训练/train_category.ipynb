{
 "cells": [
  {
   "cell_type": "code",
   "execution_count": 1,
   "id": "961b598d-6f03-4387-86b8-d3fdf5a40715",
   "metadata": {},
   "outputs": [],
   "source": [
    "import re\n",
    "import os\n",
    "import tensorflow as tf\n",
    "import numpy as np\n",
    "import pandas as pd\n",
    "import matplotlib.pyplot as plt\n",
    "import jieba\n",
    "from gensim.models import KeyedVectors\n",
    "from sklearn.model_selection import train_test_split\n",
    "from sklearn import preprocessing\n",
    "from keras.callbacks import ModelCheckpoint\n",
    "\n",
    "import pandas as pd\n",
    "import json\n",
    "\n"
   ]
  },
  {
   "cell_type": "code",
   "execution_count": 2,
   "id": "7eefc4cc-27d5-4208-8880-152d63aa2abb",
   "metadata": {},
   "outputs": [],
   "source": [
    "cn_model = KeyedVectors.load_word2vec_format('sgns.zhihu.bigram',\n",
    "                                            binary=False, unicode_errors='ignore')\n"
   ]
  },
  {
   "cell_type": "code",
   "execution_count": 3,
   "id": "fe61bde5-6881-4e59-995e-a32d25225e7d",
   "metadata": {},
   "outputs": [
    {
     "name": "stdout",
     "output_type": "stream",
     "text": [
      "34730\n"
     ]
    }
   ],
   "source": [
    "x = []\n",
    "y = []\n",
    "with open(\"category_data\",'r',encoding='utf-8') as f:\n",
    "    data = json.load(f)\n",
    "for item in data:\n",
    "    x.append(item['content'])\n",
    "    y.append(item['label'])\n",
    "print(len(x))"
   ]
  },
  {
   "cell_type": "code",
   "execution_count": 4,
   "id": "9c0c7d94-8325-40ae-9746-1d0b8f1d6a64",
   "metadata": {},
   "outputs": [
    {
     "name": "stderr",
     "output_type": "stream",
     "text": [
      "Building prefix dict from the default dictionary ...\n",
      "Loading model from cache C:\\Users\\lenovo\\AppData\\Local\\Temp\\jieba.cache\n",
      "Loading model cost 0.604 seconds.\n",
      "Prefix dict has been built successfully.\n"
     ]
    }
   ],
   "source": [
    "x_tokens = []\n",
    "\n",
    "for text in x:\n",
    "    # 使用jieba进行分词\n",
    "    cut = jieba.cut(text)\n",
    "    cut_list = [i for i in cut]\n",
    "    for i,word in enumerate(cut_list):\n",
    "        try:\n",
    "            # 将词转换为索引index\n",
    "            cut_list[i] = cn_model.key_to_index[word]\n",
    "        except KeyError:\n",
    "            # 如果词不在字典中，则输出0\n",
    "            cut_list[i] = 0\n",
    "    x_tokens.append(cut_list)"
   ]
  },
  {
   "cell_type": "code",
   "execution_count": 6,
   "id": "69562808-06f5-4fe1-afa6-e1c276e74fbe",
   "metadata": {},
   "outputs": [
    {
     "data": {
      "image/png": "[encoded data removed]",
      "text/plain": [
       "<Figure size 432x288 with 1 Axes>"
      ]
     },
     "metadata": {
      "needs_background": "light"
     },
     "output_type": "display_data"
    },
    {
     "name": "stdout",
     "output_type": "stream",
     "text": [
      "75.0\n"
     ]
    }
   ],
   "source": [
    "tokens_count = [len(tokens) for tokens in x_tokens]\n",
    "tokens_count.sort(reverse=True)\n",
    "# 画图查看词的长度分布\n",
    "plt.plot(tokens_count)\n",
    "plt.ylabel('tokens count')\n",
    "plt.xlabel('tokens length')\n",
    "plt.show()\n",
    "\n",
    "#长度分布不均匀，自己确定长度为75\n",
    "tokens_length = np.float64(75)\n",
    "print(tokens_length)"
   ]
  },
  {
   "cell_type": "code",
   "execution_count": 10,
   "id": "03bf0f4e-3fdf-4211-bfb1-b91ee131faec",
   "metadata": {},
   "outputs": [
    {
     "data": {
      "text/plain": [
       "0.9525770227469047"
      ]
     },
     "execution_count": 10,
     "metadata": {},
     "output_type": "execute_result"
    }
   ],
   "source": [
    "#75的长度可以覆盖超过95%的样本\n",
    "np.sum(tokens_count < tokens_length) / len(tokens_count)\n"
   ]
  },
  {
   "cell_type": "code",
   "execution_count": 7,
   "id": "dea7a1ff-c8e5-49e1-a659-b6bac17743c2",
   "metadata": {},
   "outputs": [
    {
     "name": "stdout",
     "output_type": "stream",
     "text": [
      "300\n"
     ]
    }
   ],
   "source": [
    "embedding_matrix = np.zeros((50000, 300))\n",
    "for i in range(50000):\n",
    "    embedding_matrix[i, :] = cn_model[cn_model.index_to_key[i]]\n",
    "embedding_matrix = embedding_matrix.astype('float32')"
   ]
  },
  {
   "cell_type": "code",
   "execution_count": 8,
   "id": "eaf51018-bfa0-4d85-bab3-cdfd6443226f",
   "metadata": {},
   "outputs": [
    {
     "name": "stdout",
     "output_type": "stream",
     "text": [
      "75\n",
      "[   0    0    0    0    0    0    0    0    0    0    0    0    0    0\n",
      "    0    0    0    0    0    0    0    0    0    0    0    0    0    0\n",
      "    0    0    0    0    0    0    0    0    0    0    0    0    0    0\n",
      "    0    0    0    0    0    0    0    0    0    0    0    0    0    0\n",
      "    0    0    0    0    0    0    0    0    1 1166   11  758    0   83\n",
      "  418  292    3    0    3]\n"
     ]
    }
   ],
   "source": [
    "x_tokens_pad = tf.keras.preprocessing.sequence.pad_sequences(x_tokens,\n",
    "                                                                  maxlen=int(tokens_length),\n",
    "                                                                  padding='pre',\n",
    "                                                                  truncating='pre')\n",
    "x_tokens_pad[x_tokens_pad >= 50000] = 0\n",
    "\n",
    "print(len(x_tokens_pad[103]))\n",
    "print(x_tokens_pad[103])\n"
   ]
  },
  {
   "cell_type": "code",
   "execution_count": 9,
   "id": "ad524cb6-6b44-4c8a-a992-a77f8e65d4af",
   "metadata": {},
   "outputs": [
    {
     "name": "stdout",
     "output_type": "stream",
     "text": [
      "[[1. 0. 0. 0. 0. 0.]\n",
      " [0. 0. 1. 0. 0. 0.]\n",
      " [0. 0. 0. 1. 0. 0.]\n",
      " ...\n",
      " [0. 0. 0. 0. 1. 0.]\n",
      " [1. 0. 0. 0. 0. 0.]\n",
      " [0. 0. 0. 1. 0. 0.]]\n"
     ]
    }
   ],
   "source": [
    "encoder = preprocessing.LabelEncoder()\n",
    "\n",
    "y_tokens = encoder.fit_transform(y)\n",
    "y_tokens = tf.keras.utils.to_categorical(y_tokens)\n",
    "\n",
    "print(y_tokens)"
   ]
  },
  {
   "cell_type": "code",
   "execution_count": 10,
   "id": "37e7cc5d-fe4e-4567-88e0-1c6e1f34a5ee",
   "metadata": {},
   "outputs": [],
   "source": [
    "x_tokens_train, x_tokens_test, y_tokens_train, y_tokens_test = train_test_split(\n",
    "    x_tokens_pad,\n",
    "    y_tokens,\n",
    "    test_size=0.1,\n",
    "    random_state=12\n",
    ")"
   ]
  },
  {
   "cell_type": "code",
   "execution_count": 11,
   "id": "aa7cf60f-4615-4059-aeba-57f8be2ce37e",
   "metadata": {},
   "outputs": [],
   "source": [
    "save_dir = os.path.join(os.getcwd(), 'saved_models/category_4')\n",
    "filepath=\"model_{epoch:02d}-{val_accuracy:.2f}.hdf5\"\n",
    "checkpoint = ModelCheckpoint(os.path.join(save_dir, filepath), monitor='val_accuracy',verbose=1, \n",
    "                            save_best_only=True)\n",
    "\n",
    "model = tf.keras.models.Sequential([\n",
    "    tf.keras.layers.Embedding(50000,300,\n",
    "                                         weights=[embedding_matrix],\n",
    "                                         input_length=int(tokens_length),\n",
    "                                         trainable=False                                        \n",
    "                                        ),\n",
    "    tf.keras.layers.Bidirectional(tf.keras.layers.LSTM(units=96, return_sequences=True)),\n",
    "    tf.keras.layers.LSTM(16, return_sequences=False),\n",
    "    tf.keras.layers.Dropout(0.5),\n",
    "    tf.keras.layers.Dense(96, activation='relu'),\n",
    "    tf.keras.layers.Dropout(0.5),\n",
    "    tf.keras.layers.Dense(6, activation='softmax')\n",
    "])\n",
    "model.compile(optimizer='Adam',\n",
    "              loss='categorical_crossentropy',\n",
    "              metrics=['accuracy']\n",
    "             )"
   ]
  },
  {
   "cell_type": "code",
   "execution_count": 14,
   "id": "fa9a8a65-ebcd-4533-9498-4014ea0b3f6e",
   "metadata": {},
   "outputs": [
    {
     "name": "stdout",
     "output_type": "stream",
     "text": [
      "Epoch 1/20\n",
      "220/220 [==============================] - 34s 155ms/step - loss: 0.4816 - accuracy: 0.8428 - val_loss: 0.9781 - val_accuracy: 0.7127\n",
      "\n",
      "Epoch 00001: val_accuracy did not improve from 0.72169\n",
      "Epoch 2/20\n",
      "220/220 [==============================] - 34s 155ms/step - loss: 0.4384 - accuracy: 0.8605 - val_loss: 1.0273 - val_accuracy: 0.7153\n",
      "\n",
      "Epoch 00002: val_accuracy did not improve from 0.72169\n",
      "Epoch 3/20\n",
      "220/220 [==============================] - 34s 157ms/step - loss: 0.3943 - accuracy: 0.8757 - val_loss: 1.1955 - val_accuracy: 0.7127\n",
      "\n",
      "Epoch 00003: val_accuracy did not improve from 0.72169\n",
      "Epoch 4/20\n",
      "220/220 [==============================] - 35s 158ms/step - loss: 0.3628 - accuracy: 0.8837 - val_loss: 1.2802 - val_accuracy: 0.7063\n",
      "\n",
      "Epoch 00004: val_accuracy did not improve from 0.72169\n",
      "Epoch 5/20\n",
      "220/220 [==============================] - 35s 159ms/step - loss: 0.3330 - accuracy: 0.8958 - val_loss: 1.2824 - val_accuracy: 0.7054\n",
      "\n",
      "Epoch 00005: val_accuracy did not improve from 0.72169\n",
      "Epoch 6/20\n",
      "220/220 [==============================] - 37s 170ms/step - loss: 0.2997 - accuracy: 0.9077 - val_loss: 1.4396 - val_accuracy: 0.7115\n",
      "\n",
      "Epoch 00006: val_accuracy did not improve from 0.72169\n",
      "Epoch 7/20\n",
      "220/220 [==============================] - 36s 164ms/step - loss: 0.2567 - accuracy: 0.9216 - val_loss: 1.4900 - val_accuracy: 0.6948\n",
      "\n",
      "Epoch 00007: val_accuracy did not improve from 0.72169\n",
      "Epoch 8/20\n",
      "220/220 [==============================] - 35s 157ms/step - loss: 0.2431 - accuracy: 0.9261 - val_loss: 1.5534 - val_accuracy: 0.7015\n",
      "\n",
      "Epoch 00008: val_accuracy did not improve from 0.72169\n",
      "Epoch 9/20\n",
      "220/220 [==============================] - 35s 157ms/step - loss: 0.2300 - accuracy: 0.9289 - val_loss: 1.6326 - val_accuracy: 0.7079\n",
      "\n",
      "Epoch 00009: val_accuracy did not improve from 0.72169\n",
      "Epoch 10/20\n",
      "220/220 [==============================] - 35s 159ms/step - loss: 0.2203 - accuracy: 0.9344 - val_loss: 1.6818 - val_accuracy: 0.6974\n",
      "\n",
      "Epoch 00010: val_accuracy did not improve from 0.72169\n",
      "Epoch 11/20\n",
      "220/220 [==============================] - 34s 157ms/step - loss: 0.2130 - accuracy: 0.9348 - val_loss: 1.6685 - val_accuracy: 0.6948\n",
      "\n",
      "Epoch 00011: val_accuracy did not improve from 0.72169\n",
      "Epoch 12/20\n",
      "220/220 [==============================] - 35s 158ms/step - loss: 0.1777 - accuracy: 0.9485 - val_loss: 1.9475 - val_accuracy: 0.6955\n",
      "\n",
      "Epoch 00012: val_accuracy did not improve from 0.72169\n",
      "Epoch 13/20\n",
      "220/220 [==============================] - 35s 159ms/step - loss: 0.1688 - accuracy: 0.9497 - val_loss: 1.9746 - val_accuracy: 0.6977\n",
      "\n",
      "Epoch 00013: val_accuracy did not improve from 0.72169\n",
      "Epoch 14/20\n",
      "220/220 [==============================] - 35s 157ms/step - loss: 0.1590 - accuracy: 0.9545 - val_loss: 2.0440 - val_accuracy: 0.6910\n",
      "\n",
      "Epoch 00014: val_accuracy did not improve from 0.72169\n",
      "Epoch 15/20\n",
      "220/220 [==============================] - 34s 157ms/step - loss: 0.1395 - accuracy: 0.9600 - val_loss: 2.1326 - val_accuracy: 0.6923\n",
      "\n",
      "Epoch 00015: val_accuracy did not improve from 0.72169\n",
      "Epoch 16/20\n",
      "220/220 [==============================] - 35s 157ms/step - loss: 0.1346 - accuracy: 0.9595 - val_loss: 2.1932 - val_accuracy: 0.6910\n",
      "\n",
      "Epoch 00016: val_accuracy did not improve from 0.72169\n",
      "Epoch 17/20\n",
      "220/220 [==============================] - 35s 158ms/step - loss: 0.1307 - accuracy: 0.9617 - val_loss: 2.2796 - val_accuracy: 0.6705\n",
      "\n",
      "Epoch 00017: val_accuracy did not improve from 0.72169\n",
      "Epoch 18/20\n",
      "220/220 [==============================] - 39s 180ms/step - loss: 0.1384 - accuracy: 0.9585 - val_loss: 2.2827 - val_accuracy: 0.6910\n",
      "\n",
      "Epoch 00018: val_accuracy did not improve from 0.72169\n",
      "Epoch 19/20\n",
      "220/220 [==============================] - 40s 184ms/step - loss: 0.1175 - accuracy: 0.9657 - val_loss: 2.3053 - val_accuracy: 0.6871\n",
      "\n",
      "Epoch 00019: val_accuracy did not improve from 0.72169\n",
      "Epoch 20/20\n",
      "220/220 [==============================] - 38s 172ms/step - loss: 0.1112 - accuracy: 0.9674 - val_loss: 2.3405 - val_accuracy: 0.6795\n",
      "\n",
      "Epoch 00020: val_accuracy did not improve from 0.72169\n"
     ]
    }
   ],
   "source": [
    "history = model.fit(x_tokens_train, \n",
    "          y_tokens_train,\n",
    "          batch_size=128,\n",
    "          epochs=20, \n",
    "          validation_split=0.1,\n",
    "          validation_freq=1,\n",
    "          callbacks=[checkpoint]\n",
    "         )"
   ]
  },
  {
   "cell_type": "code",
   "execution_count": 16,
   "id": "9a97f03d-b701-480a-a9dd-94c263c69eb8",
   "metadata": {},
   "outputs": [
    {
     "data": {
      "image/png": "[encoded data removed]",
      "text/plain": [
       "<Figure size 432x288 with 1 Axes>"
      ]
     },
     "metadata": {
      "needs_background": "light"
     },
     "output_type": "display_data"
    },
    {
     "data": {
      "image/png": "[encoded data removed]",
      "text/plain": [
       "<Figure size 432x288 with 1 Axes>"
      ]
     },
     "metadata": {
      "needs_background": "light"
     },
     "output_type": "display_data"
    }
   ],
   "source": [
    "plt.plot(history.history['loss'],label=\"$Loss$\")\n",
    "plt.plot(history.history['val_loss'],label='$val_loss$')\n",
    "plt.title('Loss')\n",
    "plt.xlabel('epoch')\n",
    "plt.ylabel('num')\n",
    "plt.legend()\n",
    "plt.show()\n",
    "plt.plot(history.history['accuracy'],label=\"$categorical_accuracy$\")\n",
    "plt.plot(history.history['val_accuracy'],label='$val_categorical_accuracy$')\n",
    "plt.title('Accuracy')\n",
    "plt.xlabel('epoch')\n",
    "plt.ylabel('num')\n",
    "plt.legend()\n",
    "plt.show()"
   ]
  },
  {
   "cell_type": "code",
   "execution_count": 19,
   "id": "aaeb3537-ce4d-4f54-9ff0-82e8a4795415",
   "metadata": {},
   "outputs": [
    {
     "name": "stdout",
     "output_type": "stream",
     "text": [
      "109/109 [==============================] - 4s 26ms/step - loss: 0.8847 - accuracy: 0.7198\n",
      "Accuracy : 0.7198387384414673\n"
     ]
    }
   ],
   "source": [
    "result = model.evaluate(x_tokens_test, y_tokens_test)\n",
    "print(f'Accuracy : {result[1]}')"
   ]
  },
  {
   "cell_type": "code",
   "execution_count": 141,
   "id": "93c0834c-7caf-40b2-a064-4a044d55dd55",
   "metadata": {},
   "outputs": [],
   "source": [
    "\n",
    "#测试模型\n",
    "\n",
    "def predict_sentiment(text):\n",
    "    print(text)\n",
    "    cut = jieba.cut(text)\n",
    "    cut_list = [x for x in cut]\n",
    "    for i, word in enumerate(cut_list):\n",
    "        try:\n",
    "            cut_list[i] = cn_model.key_to_index[word]\n",
    "        except KeyError:\n",
    "            cut_list[i] = 0\n",
    "        pass\n",
    "    # padding\n",
    "    tokens_pad = tf.keras.preprocessing.sequence.pad_sequences([cut_list],\n",
    "                                                                  maxlen=int(tokens_length),\n",
    "                                                                  padding='pre',\n",
    "                                                                  truncating='pre')\n",
    "    # 大于50000的归0，不归0模型的使用会报错\n",
    "    tokens_pad[tokens_pad >= 50000] = 0\n",
    "    return tokens_pad\n",
    "test_list = [\n",
    "#输入想要测试的语句\n",
    "]\n",
    "for text in test_list:\n",
    "    try:\n",
    "        tokens_pad = predict_sentiment(text)\n",
    "        result = model.predict(x=tokens_pad)\n",
    "        print(encoder.inverse_transform([0,1,2,3,4,5]))\n",
    "        print(result)\n",
    "       \n",
    "    except Exception as ex:\n",
    "        print(ex.args)\n",
    "        pass\n",
    "    pass"
   ]
  },
  {
   "cell_type": "code",
   "execution_count": 17,
   "id": "abbce5f9-9806-477e-9640-36e07cb23d8c",
   "metadata": {},
   "outputs": [
    {
     "name": "stdout",
     "output_type": "stream",
     "text": [
      "Model: \"sequential\"\n",
      "_________________________________________________________________\n",
      "Layer (type)                 Output Shape              Param #   \n",
      "=================================================================\n",
      "embedding (Embedding)        (None, 75, 300)           15000000  \n",
      "_________________________________________________________________\n",
      "bidirectional (Bidirectional (None, 75, 192)           304896    \n",
      "_________________________________________________________________\n",
      "lstm_1 (LSTM)                (None, 16)                13376     \n",
      "_________________________________________________________________\n",
      "dropout (Dropout)            (None, 16)                0         \n",
      "_________________________________________________________________\n",
      "dense (Dense)                (None, 96)                1632      \n",
      "_________________________________________________________________\n",
      "dropout_1 (Dropout)          (None, 96)                0         \n",
      "_________________________________________________________________\n",
      "dense_1 (Dense)              (None, 6)                 582       \n",
      "=================================================================\n",
      "Total params: 15,320,486\n",
      "Trainable params: 320,486\n",
      "Non-trainable params: 15,000,000\n",
      "_________________________________________________________________\n",
      "None\n"
     ]
    }
   ],
   "source": [
    "print(model.summary())"
   ]
  }
 ],
 "metadata": {
  "kernelspec": {
   "display_name": "Python 3 (ipykernel)",
   "language": "python",
   "name": "python3"
  },
  "language_info": {
   "codemirror_mode": {
    "name": "ipython",
    "version": 3
   },
   "file_extension": ".py",
   "mimetype": "text/x-python",
   "name": "python",
   "nbconvert_exporter": "python",
   "pygments_lexer": "ipython3",
   "version": "3.9.12"
  }
 },
 "nbformat": 4,
 "nbformat_minor": 5
}
