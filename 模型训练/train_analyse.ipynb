{
 "cells": [
  {
   "cell_type": "code",
   "execution_count": 1,
   "id": "306061a0-b48f-4d66-ae3e-fdc54925b833",
   "metadata": {},
   "outputs": [
    {
     "name": "stdout",
     "output_type": "stream",
     "text": [
      "KeyedVectors<vector_size=300, 259936 keys>\n"
     ]
    }
   ],
   "source": [
    "import re\n",
    "import os\n",
    "import tensorflow as tf\n",
    "import numpy as np\n",
    "import pandas as pd\n",
    "import matplotlib.pyplot as plt\n",
    "import jieba\n",
    "from gensim.models import KeyedVectors\n",
    "from sklearn.model_selection import train_test_split\n",
    "import pandas as pd\n",
    "\n",
    "cn_model = KeyedVectors.load_word2vec_format('sgns.zhihu.bigram',\n",
    "                                            binary=False, unicode_errors='ignore')\n"
   ]
  },
  {
   "cell_type": "code",
   "execution_count": 11,
   "id": "daf2ee7f-f4ee-4c9e-9c15-07898883f718",
   "metadata": {},
   "outputs": [],
   "source": [
    "train_set_sample = pd.read_csv(\"analyze_data.csv\")"
   ]
  },
  {
   "cell_type": "code",
   "execution_count": 12,
   "id": "8ba9db20-8aef-41b0-98ed-74c982397eec",
   "metadata": {},
   "outputs": [],
   "source": [
    "x = train_set_sample.loc[:,'comment']\n",
    "y = train_set_sample.loc[:,'rating']\n",
    "x_tokens = []\n",
    "for text in x:\n",
    "    # 使用jieba进行分词\n",
    "    cut = jieba.cut(text)\n",
    "    cut_list = [i for i in cut]\n",
    "    for i,word in enumerate(cut_list):\n",
    "        try:\n",
    "            # 将词转换为索引index\n",
    "            cut_list[i] = cn_model.key_to_index[word]\n",
    "        except KeyError:\n",
    "            # 如果词不在字典中，则输出0\n",
    "            cut_list[i] = 0\n",
    "    x_tokens.append(cut_list)"
   ]
  },
  {
   "cell_type": "code",
   "execution_count": 13,
   "id": "d604788d-8572-401b-8e8d-487c460d9327",
   "metadata": {},
   "outputs": [
    {
     "data": {
      "image/png": "[encoded data removed]",
      "text/plain": [
       "<Figure size 432x288 with 1 Axes>"
      ]
     },
     "metadata": {
      "needs_background": "light"
     },
     "output_type": "display_data"
    },
    {
     "name": "stdout",
     "output_type": "stream",
     "text": [
      "71.07059513583735\n"
     ]
    }
   ],
   "source": [
    "# 获取每段语句的长度，并画图展示\n",
    "tokens_count = [len(tokens) for tokens in x_tokens]\n",
    "tokens_count.sort(reverse=True)\n",
    "# 画图查看词的长度分布\n",
    "plt.plot(tokens_count)\n",
    "plt.ylabel('tokens count')\n",
    "plt.xlabel('tokens length')\n",
    "plt.show()\n",
    "\n",
    "#近似正态分布，长度定为平均值+标准差\n",
    "tokens_length = np.mean(tokens_count) + 2 * np.std(tokens_count)\n",
    "print(tokens_length)"
   ]
  },
  {
   "cell_type": "code",
   "execution_count": 14,
   "id": "1ae0564b-84aa-4bdd-a0eb-5df438397a16",
   "metadata": {},
   "outputs": [],
   "source": [
    "embedding_matrix = np.zeros((50000, 300))\n",
    "for i in range(50000):\n",
    "    embedding_matrix[i, :] = cn_model[cn_model.index_to_key[i]]\n",
    "embedding_matrix = embedding_matrix.astype('float32')\n",
    "\n",
    "x_tokens_pad = tf.keras.preprocessing.sequence.pad_sequences(x_tokens,\n",
    "                                                                  maxlen=int(tokens_length),\n",
    "                                                                  padding='pre',\n",
    "                                                                  truncating='pre')\n",
    "x_tokens_pad[x_tokens_pad >= 50000] = 0"
   ]
  },
  {
   "cell_type": "code",
   "execution_count": 17,
   "id": "0618161d-62c8-4589-8fed-e64cc4685efa",
   "metadata": {},
   "outputs": [],
   "source": [
    "x_tokens_train, x_tokens_test, y_tokens_train, y_tokens_test = train_test_split(\n",
    "    x_tokens_pad,\n",
    "    y,\n",
    "    test_size=0.1,\n",
    "    random_state=12\n",
    ")"
   ]
  },
  {
   "cell_type": "code",
   "execution_count": 72,
   "id": "354271d0-3fdd-4b00-82f3-2f67604e2675",
   "metadata": {},
   "outputs": [],
   "source": [
    "model = tf.keras.models.Sequential([\n",
    "    tf.keras.layers.Embedding(50000,300,\n",
    "                                         weights=[embedding_matrix],\n",
    "                                         input_length=int(tokens_length),\n",
    "                                         trainable=False                                        \n",
    "                                        ),\n",
    "    tf.keras.layers.Bidirectional(tf.keras.layers.LSTM(units=96, return_sequences=True)),\n",
    "    tf.keras.layers.LSTM(16, return_sequences=False),\n",
    "    tf.keras.layers.Dropout(0.5),\n",
    "    tf.keras.layers.Dense(96, activation='relu'),\n",
    "    tf.keras.layers.Dropout(0.5),\n",
    "    tf.keras.layers.Dense(2, activation='softmax')\n",
    "])\n",
    "model.compile(optimizer='Adam',\n",
    "              loss='sparse_categorical_crossentropy',\n",
    "              metrics=['sparse_categorical_accuracy']\n",
    "             )\n"
   ]
  },
  {
   "cell_type": "code",
   "execution_count": null,
   "id": "258b9adf-11da-4994-8cc9-90521272d0b1",
   "metadata": {},
   "outputs": [],
   "source": [
    "model = tf.keras.models.Sequential([\n",
    "    tf.keras.layers.Embedding(50000,300,\n",
    "                                         weights=[embedding_matrix],\n",
    "                                         input_length=int(tokens_length),\n",
    "                                         trainable=False                                        \n",
    "                                        ),\n",
    "    tf.keras.layers.Bidirectional(tf.keras.layers.LSTM(units=96, return_sequences=True)),\n",
    "    tf.keras.layers.LSTM(16, return_sequences=False),\n",
    "    tf.keras.layers.Dropout(0.5),\n",
    "    tf.keras.layers.Dense(96, activation='relu'),\n",
    "    tf.keras.layers.Dropout(0.5),\n",
    "    tf.keras.layers.Dense(2, activation='softmax')\n",
    "])\n",
    "model.compile(optimizer='Adam',\n",
    "              loss='sparse_categorical_crossentropy',\n",
    "              metrics=['sparse_categorical_accuracy']\n",
    "             )\n"
   ]
  },
  {
   "cell_type": "code",
   "execution_count": 78,
   "id": "4b229030-85b7-466c-999c-8ca02d9a2a9c",
   "metadata": {},
   "outputs": [
    {
     "name": "stdout",
     "output_type": "stream",
     "text": [
      "Epoch 1/10\n",
      "950/950 [==============================] - 246s 259ms/step - loss: 0.2573 - sparse_categorical_accuracy: 0.8962 - val_loss: 0.2606 - val_sparse_categorical_accuracy: 0.8902\n",
      "\n",
      "Epoch 00001: val_sparse_categorical_accuracy improved from -inf to 0.89019, saving model to D:\\REPOS\\jupyter\\saved_models/nlp\\model_01-0.89.hdf5\n",
      "Epoch 2/10\n",
      "950/950 [==============================] - 246s 259ms/step - loss: 0.2381 - sparse_categorical_accuracy: 0.9054 - val_loss: 0.2428 - val_sparse_categorical_accuracy: 0.9001\n",
      "\n",
      "Epoch 00002: val_sparse_categorical_accuracy improved from 0.89019 to 0.90011, saving model to D:\\REPOS\\jupyter\\saved_models/nlp\\model_02-0.90.hdf5\n",
      "Epoch 3/10\n",
      "950/950 [==============================] - 246s 259ms/step - loss: 0.2186 - sparse_categorical_accuracy: 0.9141 - val_loss: 0.2541 - val_sparse_categorical_accuracy: 0.8943\n",
      "\n",
      "Epoch 00003: val_sparse_categorical_accuracy did not improve from 0.90011\n",
      "Epoch 4/10\n",
      "950/950 [==============================] - 245s 258ms/step - loss: 0.1989 - sparse_categorical_accuracy: 0.9227 - val_loss: 0.2501 - val_sparse_categorical_accuracy: 0.8981\n",
      "\n",
      "Epoch 00004: val_sparse_categorical_accuracy did not improve from 0.90011\n",
      "Epoch 5/10\n",
      "950/950 [==============================] - 245s 258ms/step - loss: 0.1796 - sparse_categorical_accuracy: 0.9308 - val_loss: 0.2596 - val_sparse_categorical_accuracy: 0.8954\n",
      "\n",
      "Epoch 00005: val_sparse_categorical_accuracy did not improve from 0.90011\n",
      "Epoch 6/10\n",
      "950/950 [==============================] - 245s 258ms/step - loss: 0.1599 - sparse_categorical_accuracy: 0.9388 - val_loss: 0.2796 - val_sparse_categorical_accuracy: 0.8924\n",
      "\n",
      "Epoch 00006: val_sparse_categorical_accuracy did not improve from 0.90011\n",
      "Epoch 7/10\n",
      "950/950 [==============================] - 244s 257ms/step - loss: 0.1399 - sparse_categorical_accuracy: 0.9471 - val_loss: 0.3366 - val_sparse_categorical_accuracy: 0.8828\n",
      "\n",
      "Epoch 00007: val_sparse_categorical_accuracy did not improve from 0.90011\n",
      "Epoch 8/10\n",
      "950/950 [==============================] - 244s 257ms/step - loss: 0.1260 - sparse_categorical_accuracy: 0.9525 - val_loss: 0.2947 - val_sparse_categorical_accuracy: 0.8958\n",
      "\n",
      "Epoch 00008: val_sparse_categorical_accuracy did not improve from 0.90011\n",
      "Epoch 9/10\n",
      "950/950 [==============================] - 246s 259ms/step - loss: 0.1105 - sparse_categorical_accuracy: 0.9590 - val_loss: 0.3431 - val_sparse_categorical_accuracy: 0.8959\n",
      "\n",
      "Epoch 00009: val_sparse_categorical_accuracy did not improve from 0.90011\n",
      "Epoch 10/10\n",
      "950/950 [==============================] - 472s 497ms/step - loss: 0.0984 - sparse_categorical_accuracy: 0.9638 - val_loss: 0.3797 - val_sparse_categorical_accuracy: 0.8911\n",
      "\n",
      "Epoch 00010: val_sparse_categorical_accuracy did not improve from 0.90011\n"
     ]
    }
   ],
   "source": [
    "from keras.callbacks import ModelCheckpoint\n",
    "\n",
    "save_dir = os.path.join(os.getcwd(), 'saved_models/nlp')\n",
    "filepath=\"model_{epoch:02d}-{val_sparse_categorical_accuracy:.2f}.hdf5\"\n",
    "checkpoint = ModelCheckpoint(os.path.join(save_dir, filepath), monitor='val_sparse_categorical_accuracy',verbose=1, \n",
    "                            save_best_only=True)\n",
    "history = model.fit(x_tokens_train, \n",
    "          y_tokens_train,\n",
    "          batch_size=256,\n",
    "          epochs=10, \n",
    "          validation_split=0.1,\n",
    "          validation_freq=1,\n",
    "          callbacks=[checkpoint]\n",
    "         )"
   ]
  },
  {
   "cell_type": "code",
   "execution_count": 18,
   "id": "b8d4e132-1400-4ca4-8669-479ec45c5d3b",
   "metadata": {},
   "outputs": [
    {
     "name": "stdout",
     "output_type": "stream",
     "text": [
      "938/938 [==============================] - 20s 20ms/step - loss: 0.2495 - sparse_categorical_accuracy: 0.8968\n",
      "Accuracy : 0.8968333601951599\n"
     ]
    }
   ],
   "source": [
    "result = model.evaluate(x_tokens_test, y_tokens_test)\n",
    "print(f'Accuracy : {result[1]}')"
   ]
  },
  {
   "cell_type": "code",
   "execution_count": 21,
   "id": "e3534dd3-8583-440a-8fda-6c981b794936",
   "metadata": {},
   "outputs": [
    {
     "name": "stdout",
     "output_type": "stream",
     "text": [
      "今天也是好天气\n",
      "[[0.1361304  0.86386955]]\n",
      "正:0.8638695478439331\n",
      "这件事出的真是让人气愤！\n",
      "[[0.6782131  0.32178685]]\n",
      "负:0.6782131195068359\n"
     ]
    }
   ],
   "source": [
    "\n",
    "#测试模型\n",
    "def text_process(text):\n",
    "    print(text)\n",
    "    cut = jieba.cut(text)\n",
    "    cut_list = [x for x in cut]\n",
    "    for i, word in enumerate(cut_list):\n",
    "        try:\n",
    "            cut_list[i] = cn_model.key_to_index[word]\n",
    "        except KeyError:\n",
    "            cut_list[i] = 0\n",
    "        pass\n",
    "    tokens_pad = tf.keras.preprocessing.sequence.pad_sequences([cut_list],\n",
    "                                                                  maxlen=int(tokens_length),\n",
    "                                                                  padding='pre',\n",
    "                                                                  truncating='pre')\n",
    "    # 大于50000的归0，不归0模型的使用会报错\n",
    "    tokens_pad[tokens_pad >= 50000] = 0\n",
    "    return tokens_pad\n",
    "test_list = [\n",
    "#输入想要测试的语句\n",
    "]\n",
    "for text in test_list:\n",
    "    try:\n",
    "        tokens_pad = text_process(text)\n",
    "        result = model.predict(x=tokens_pad)\n",
    "        print(result)\n",
    "        if result[0][0] <= result[0][1]:\n",
    "            print(f'正:{result[0][1]}')\n",
    "        else:\n",
    "            print(f'负:{result[0][0]}')\n",
    "    except Exception as ex:\n",
    "        print(ex.args)\n",
    "        pass\n",
    "    pass"
   ]
  },
  {
   "cell_type": "code",
   "execution_count": 61,
   "id": "903c9d56-9fe9-469f-afc1-0f5e984070fe",
   "metadata": {},
   "outputs": [
    {
     "data": {
      "image/png": "[encoded data removed]",
      "text/plain": [
       "<Figure size 432x288 with 1 Axes>"
      ]
     },
     "metadata": {
      "needs_background": "light"
     },
     "output_type": "display_data"
    },
    {
     "data": {
      "image/png": "[encoded data removed]",
      "text/plain": [
       "<Figure size 432x288 with 1 Axes>"
      ]
     },
     "metadata": {
      "needs_background": "light"
     },
     "output_type": "display_data"
    }
   ],
   "source": [
    "plt.plot(history.history['loss'],label=\"$Loss$\")\n",
    "plt.plot(history.history['val_loss'],label='$val_loss$')\n",
    "plt.title('Loss')\n",
    "plt.xlabel('epoch')\n",
    "plt.ylabel('num')\n",
    "plt.legend()\n",
    "plt.show()\n",
    "plt.plot(history.history['sparse_categorical_accuracy'],label=\"$sparse_categorical_accuracy$\")\n",
    "plt.plot(history.history['val_sparse_categorical_accuracy'],label='$val_sparse_categorical_accuracy$')\n",
    "plt.title('Accuracy')\n",
    "plt.xlabel('epoch')\n",
    "plt.ylabel('num')\n",
    "plt.legend()\n",
    "plt.show()"
   ]
  },
  {
   "cell_type": "code",
   "execution_count": 23,
   "id": "0d4345bd-c336-4c99-8f84-1f2aea3cfcdc",
   "metadata": {},
   "outputs": [
    {
     "name": "stdout",
     "output_type": "stream",
     "text": [
      "Model: \"sequential_10\"\n",
      "_________________________________________________________________\n",
      "Layer (type)                 Output Shape              Param #   \n",
      "=================================================================\n",
      "embedding_10 (Embedding)     (None, 71, 300)           15000000  \n",
      "_________________________________________________________________\n",
      "bidirectional_8 (Bidirection (None, 71, 192)           304896    \n",
      "_________________________________________________________________\n",
      "lstm_19 (LSTM)               (None, 16)                13376     \n",
      "_________________________________________________________________\n",
      "dropout_18 (Dropout)         (None, 16)                0         \n",
      "_________________________________________________________________\n",
      "dense_19 (Dense)             (None, 96)                1632      \n",
      "_________________________________________________________________\n",
      "dropout_19 (Dropout)         (None, 96)                0         \n",
      "_________________________________________________________________\n",
      "dense_20 (Dense)             (None, 2)                 194       \n",
      "=================================================================\n",
      "Total params: 15,320,098\n",
      "Trainable params: 320,098\n",
      "Non-trainable params: 15,000,000\n",
      "_________________________________________________________________\n",
      "None\n"
     ]
    }
   ],
   "source": [
    "print(model.summary())"
   ]
  }
 ],
 "metadata": {
  "kernelspec": {
   "display_name": "Python 3 (ipykernel)",
   "language": "python",
   "name": "python3"
  },
  "language_info": {
   "codemirror_mode": {
    "name": "ipython",
    "version": 3
   },
   "file_extension": ".py",
   "mimetype": "text/x-python",
   "name": "python",
   "nbconvert_exporter": "python",
   "pygments_lexer": "ipython3",
   "version": "3.9.12"
  }
 },
 "nbformat": 4,
 "nbformat_minor": 5
}
